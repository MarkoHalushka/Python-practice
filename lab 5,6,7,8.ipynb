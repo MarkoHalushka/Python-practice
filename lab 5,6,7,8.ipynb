{
 "cells": [
  {
   "cell_type": "markdown",
   "id": "03d6c514-a2f9-4935-a1bf-8c848674886a",
   "metadata": {},
   "source": [
    "## Lab 5,6"
   ]
  },
  {
   "cell_type": "markdown",
   "id": "10220ea8-4822-46d7-8682-6e08464c5f7e",
   "metadata": {},
   "source": [
    "### Objectives\n",
    "1. Implement an SQL model in Python for smartphones.\n",
    "2. Convert it to the Movies/Genres model we worked on in class.\n",
    "3. Do some code changes.\n",
    "4. Draw Mermaid diagrams (docs [here](https://mermaid.js.org/syntax/entityRelationshipDiagram.html))."
   ]
  },
  {
   "cell_type": "markdown",
   "id": "8d10ff29-5ae9-4e9b-832c-605a8db3d7ed",
   "metadata": {},
   "source": [
    "### Setup\n",
    "First, we need to setup an SQLite connection."
   ]
  },
  {
   "cell_type": "code",
   "execution_count": 58,
   "id": "d758f15f-ec7a-4638-9e8f-a04cb27b8e5a",
   "metadata": {},
   "outputs": [],
   "source": [
    "import sqlite3\n",
    "\n",
    "con = sqlite3.connect(\"movies.db\")\n",
    "cur = con.cursor()\n"
   ]
  },
  {
   "cell_type": "code",
   "execution_count": 59,
   "id": "250592ff",
   "metadata": {},
   "outputs": [],
   "source": [
    "import sqlite3\n",
    "from enum import Enum\n",
    "\n",
    "con = sqlite3.connect(\"movies.db\")\n",
    "cur = con.cursor()\n",
    "\n",
    "class Country(Enum):\n",
    "    USA = 'USA'\n",
    "    UK = 'UK'\n",
    "    INDIA = 'India'\n",
    "\n",
    "    @classmethod\n",
    "    def valueTuples(cls):\n",
    "        \"\"\"Get a list of all values in an enum.\n",
    "        Note that we wrap values in single-element tuples (el,)\n",
    "        so that to feed it into 'INSERT' statement.\n",
    "        \"\"\"\n",
    "        return [(e.value,) for e in cls]\n",
    "\n",
    "    @classmethod\n",
    "    def createTable(cls):\n",
    "        \"\"\"This function does two things. First, creates a l_countries table.\n",
    "        Second, insert predefined values into the table. This is where we use\n",
    "        the valueTuples method from above.\n",
    "        Note the con.commit() call - it's necessary whenever we make changes to a table\n",
    "        \"\"\" \n",
    "        cur.execute('CREATE TABLE IF NOT EXISTS l_countries (country TEXT PRIMARY KEY)')\n",
    "        cur.executemany('INSERT INTO l_countries VALUES(?)', cls.valueTuples())\n",
    "        con.commit()\n",
    "\n",
    "    @classmethod\n",
    "    def removeTable(cls):\n",
    "        \"\"\"Method for dropping a table. Useful for debugging.\n",
    "        \"\"\"\n",
    "        cur.execute('DROP TABLE IF EXISTS l_countries')\n",
    "        con.commit()\n",
    "        \n",
    "    @classmethod\n",
    "    def getAll(cls):\n",
    "        \"\"\"Fetch all records from l_countries table.\n",
    "        Note that we convert result tuples back to strings - \n",
    "        it's a reverse operation to the one we did in valueTuples() method.\n",
    "        \"\"\"\n",
    "        cur.execute('SELECT * FROM l_countries')\n",
    "        sqlResult = cur.fetchall()\n",
    "        return [cls(p[0]) for p in sqlResult]\n"
   ]
  },
  {
   "cell_type": "markdown",
   "id": "02b81ed2-26ed-4f5b-a960-adb9ac66721a",
   "metadata": {},
   "source": [
    "### Phone platforms\n",
    "Let's create a Python class for phone platforms. Each phone can have a single platform (iOS/Android).\n",
    "\n",
    "Please read code comments for all member functions, they are important for understanding how it all works."
   ]
  },
  {
   "cell_type": "code",
   "execution_count": 60,
   "id": "4926ed93-3dd4-4b8a-8f68-1646138b1fc7",
   "metadata": {},
   "outputs": [
    {
     "name": "stdout",
     "output_type": "stream",
     "text": [
      "[<Country.USA: 'USA'>, <Country.UK: 'UK'>, <Country.INDIA: 'India'>]\n"
     ]
    }
   ],
   "source": [
    "Country.removeTable()\n",
    "Country.createTable()\n",
    "countries = Country.getAll()\n",
    "print(countries)\n"
   ]
  },
  {
   "cell_type": "markdown",
   "id": "5a1baf5e-d29e-4700-86d5-418ce78fc174",
   "metadata": {},
   "source": [
    "Let's test it. Create `l_platforms` table:"
   ]
  },
  {
   "cell_type": "code",
   "execution_count": null,
   "id": "5ae15e86-8b1f-4395-b186-1f81f55a229c",
   "metadata": {},
   "outputs": [],
   "source": []
  },
  {
   "cell_type": "markdown",
   "id": "82855c0f-db31-4151-a25b-46cb3e25ebc9",
   "metadata": {},
   "source": [
    "Check if platform values have been inserted:"
   ]
  },
  {
   "cell_type": "code",
   "execution_count": null,
   "id": "cda167ed-2f26-4027-b629-ef0c46930dab",
   "metadata": {},
   "outputs": [],
   "source": []
  },
  {
   "cell_type": "markdown",
   "id": "ed89c8b1-d3cf-4264-9ddc-de84ae92fb7a",
   "metadata": {},
   "source": [
    "### Markets class\n",
    "Now let's create a `Market` class. It will represent list of markets the phone is sold in, like `UA` (Ukraine), `US` (United States), `DE` (Germany), `BR` (Brazil), `IN` (India)."
   ]
  },
  {
   "cell_type": "code",
   "execution_count": 62,
   "id": "3a7c3f66-0b1b-4658-aa14-242c12f9850f",
   "metadata": {},
   "outputs": [],
   "source": [
    "class Genre(Enum):\n",
    "    ACTION = 'Action'\n",
    "    COMEDY = 'Comedy'\n",
    "    DRAMA = 'Drama'\n",
    "    HORROR = 'Horror'\n",
    "    ROMANCE = 'Romance'\n",
    "\n",
    "    @classmethod\n",
    "    def valueTuples(cls):\n",
    "        \"\"\"Get a list of all values in an enum.\n",
    "        Note that we wrap values in single-element tuples (el,)\n",
    "        so that to feed it into 'INSERT' statement.\n",
    "        \"\"\"\n",
    "        return [(e.value,) for e in cls]\n",
    "\n",
    "    @classmethod\n",
    "    def createTable(cls):\n",
    "        \"\"\"This function does two things. First, creates a l_genres table.\n",
    "        Second, insert predefined values into the table. This is where we use\n",
    "        the valueTuples method from above.\n",
    "        Note the con.commit() call - it's necessary whenever we make changes to a table\n",
    "        \"\"\" \n",
    "        cur.execute('CREATE TABLE IF NOT EXISTS l_genres (genre TEXT PRIMARY KEY)')\n",
    "        cur.executemany('INSERT INTO l_genres VALUES(?)', cls.valueTuples())\n",
    "        con.commit()\n",
    "\n",
    "    @classmethod\n",
    "    def removeTable(cls):\n",
    "        \"\"\"Method for dropping a table. Useful for debugging.\n",
    "        \"\"\"\n",
    "        cur.execute('DROP TABLE IF EXISTS l_genres')\n",
    "        con.commit()\n",
    "        \n",
    "    @classmethod\n",
    "    def getAll(cls):\n",
    "        \"\"\"Fetch all records from l_genres table.\n",
    "        Note that we convert result tuples back to strings - \n",
    "        it's a reverse operation to the one we did in valueTuples() method.\n",
    "        \"\"\"\n",
    "        cur.execute('SELECT * FROM l_genres')\n",
    "        sqlResult = cur.fetchall()\n",
    "        return [cls(p[0]) for p in sqlResult]\n"
   ]
  },
  {
   "cell_type": "markdown",
   "id": "a88f7dbe-cd49-4715-b63e-cb358ab004cb",
   "metadata": {},
   "source": [
    "It's very similar to the `Platform` enum above.\n",
    "\n",
    "Let's verify that it works properly."
   ]
  },
  {
   "cell_type": "code",
   "execution_count": 63,
   "id": "8bf8a6aa-df3b-4ff4-8a3c-f8dd2a165e68",
   "metadata": {},
   "outputs": [
    {
     "name": "stdout",
     "output_type": "stream",
     "text": [
      "[<Genre.ACTION: 'Action'>, <Genre.COMEDY: 'Comedy'>, <Genre.DRAMA: 'Drama'>, <Genre.HORROR: 'Horror'>, <Genre.ROMANCE: 'Romance'>]\n"
     ]
    }
   ],
   "source": [
    "Genre.removeTable()\n",
    "Genre.createTable()\n",
    "genres = Genre.getAll()\n",
    "print(genres)\n"
   ]
  },
  {
   "cell_type": "markdown",
   "id": "b6045a12-d4fb-44e5-aea3-01f799977f50",
   "metadata": {},
   "source": [
    "Note that there is a 1-to-many mapping between `Phone`s and `Market`s - one phone can be sold in many markets. Therefore, we need to create an extra link table."
   ]
  },
  {
   "cell_type": "code",
   "execution_count": 64,
   "id": "ed1ee282-f841-478d-a36a-def46d267fe2",
   "metadata": {},
   "outputs": [],
   "source": [
    "def createCountryMapping():\n",
    "    cur.execute('''CREATE TABLE IF NOT EXISTS MOVIE_COUNTRY (\n",
    "                    movie TEXT,\n",
    "                    country TEXT,\n",
    "                    PRIMARY KEY(movie, country),\n",
    "                    FOREIGN KEY(movie) REFERENCES MOVIES(TITLE),\n",
    "                    FOREIGN KEY(country) REFERENCES l_countries(country))''')\n",
    "    con.commit()\n"
   ]
  },
  {
   "cell_type": "markdown",
   "id": "cc250576-9f50-4da2-9446-bd64afa4d3f5",
   "metadata": {},
   "source": [
    "We don't yet have a `phones` table, but that's fine. Let' run it."
   ]
  },
  {
   "cell_type": "code",
   "execution_count": 65,
   "id": "6a713988-87b2-447b-8827-2e75291e48bc",
   "metadata": {},
   "outputs": [
    {
     "data": {
      "text/plain": [
       "<function __main__.createCountryMapping()>"
      ]
     },
     "execution_count": 65,
     "metadata": {},
     "output_type": "execute_result"
    }
   ],
   "source": [
    "createCountryMapping"
   ]
  },
  {
   "cell_type": "markdown",
   "id": "7c06fc78-63a4-49b4-a53c-c3060baedcb2",
   "metadata": {},
   "source": [
    "### Phone class\n",
    "Now, having all pieces in place, let's proceed to the `Phone` class. It will contain `name`, `manufacturer`, `platform`, `year`, and `rating` fields."
   ]
  },
  {
   "cell_type": "code",
   "execution_count": 77,
   "id": "7e2633e1-5af2-4f83-ae22-1d0fa7bedf7a",
   "metadata": {},
   "outputs": [],
   "source": [
    "def getGenresFromString(string):\n",
    "    \"\"\"This is a helper method that\n",
    "    constructs a set out of a comma-separated string\n",
    "    \"\"\"\n",
    "    return {Genre(e) for e in string.split(',')}\n",
    "\n",
    "class Movie:\n",
    "    def __init__(self, title, director, genre, year, rating, countries):\n",
    "        self.title = title\n",
    "        self.director = director\n",
    "        self.genre = genre\n",
    "        self.year = year\n",
    "        self.rating = rating\n",
    "        self.countries = countries\n",
    "    \n",
    "    @classmethod\n",
    "    def createTable(cls):\n",
    "        \"\"\"There is 1-to-1 mapping between movies and genres,\n",
    "        therefore we add a FOREIGN KEY to movies table\n",
    "        \"\"\"\n",
    "        cur.execute('''CREATE TABLE IF NOT EXISTS movies (\n",
    "                        title TEXT PRIMARY KEY,\n",
    "                        director TEXT,\n",
    "                        genre TEXT,\n",
    "                        year INTEGER,\n",
    "                        rating REAL,\n",
    "                        FOREIGN KEY(genre) REFERENCES l_genres(genre))''')\n",
    "        con.commit()\n",
    "\n",
    "    def insert(self):\n",
    "        \"\"\"Insert or update a movie record.\"\"\"\n",
    "        cur.execute('''SELECT * FROM movies WHERE title=?''', (self.title,))\n",
    "        existing_record = cur.fetchone()\n",
    "        if existing_record:\n",
    "            self.update()\n",
    "        else:\n",
    "            cur.execute('''INSERT INTO movies VALUES(?,?,?,?, ?)''', (self.title, self.director, self.genre.value, self.year, self.rating))\n",
    "            cur.executemany('''INSERT INTO movie_country VALUES(?,?)''', [(self.title, c.value) for c in self.countries])\n",
    "            con.commit()\n",
    "\n",
    "    def update(self):\n",
    "        \"\"\"Update a movie record.\"\"\"\n",
    "        cur.execute('''UPDATE movies SET director=?, genre=?, year=?, rating=? WHERE title=?''', (self.director, self.genre.value, self.year, self.rating, self.title))\n",
    "        cur.execute('''DELETE FROM movie_country WHERE movie=?''', (self.title,))\n",
    "        cur.executemany('''INSERT INTO movie_country VALUES(?,?)''', [(self.title, c.value) for c in self.countries])\n",
    "        con.commit()\n",
    "\n",
    "    @classmethod\n",
    "    def get(cls, title):\n",
    "        \"\"\"This query uses a LEFT JOIN and an aggregate function GROUP_CONCAT\n",
    "        to fetch countries for a movie.\n",
    "        \"\"\"\n",
    "        cur.execute('''SELECT m.director, m.genre, m.year, m.rating, GROUP_CONCAT(mc.country, ',') FROM movies m\n",
    "                    LEFT JOIN movie_country mc ON m.title = mc.movie\n",
    "                    WHERE m.title=? GROUP BY m.title''', (title,))\n",
    "        res = cur.fetchone()\n",
    "        return Movie(title, res[0], Genre(res[1]), res[2], res[3], [Country(c) for c in res[4].split(',')])\n",
    "\n",
    "    def __str__(self):\n",
    "        return \"(%s, %s, %s, %s, %s, %s)\" % (self.title, self.director, self.genre, self.year, self.rating, self.countries)\n"
   ]
  },
  {
   "cell_type": "code",
   "execution_count": 78,
   "id": "71d2c4ec-7b22-412e-b408-fb5a0d683b15",
   "metadata": {},
   "outputs": [],
   "source": [
    "Movie.createTable()"
   ]
  },
  {
   "cell_type": "code",
   "execution_count": 79,
   "id": "66887131-9f9e-4775-b024-208844dc2322",
   "metadata": {},
   "outputs": [],
   "source": [
    "\n",
    "movie1 = Movie('Inception', 'Christopher Nolan', Genre.ACTION, 2010, 0, [Country.USA])\n",
    "movie2 = Movie('Interstellar', 'Christopher Nolan', Genre.DRAMA, 2014, 0, [Country.USA, Country.UK])\n",
    "movie3 = Movie('The Shawshank Redemption', 'Frank Darabont', Genre.DRAMA, 1994, 0, [Country.USA])\n",
    "\n",
    "movie1.insert()\n",
    "movie2.insert()\n",
    "movie3.insert()\n"
   ]
  },
  {
   "cell_type": "code",
   "execution_count": 80,
   "id": "82cb88fe-819a-4af4-bd43-93fe3d6043e5",
   "metadata": {},
   "outputs": [
    {
     "name": "stdout",
     "output_type": "stream",
     "text": [
      "(Interstellar, Christopher Nolan, Genre.DRAMA, 2014, 0.0, [<Country.UK: 'UK'>, <Country.USA: 'USA'>])\n"
     ]
    }
   ],
   "source": [
    "print(Movie.get('Interstellar'))"
   ]
  },
  {
   "cell_type": "markdown",
   "id": "e000313f-285e-4283-b7d8-2feb73681b01",
   "metadata": {},
   "source": [
    "Below is a helper function to be used in exercise 3."
   ]
  },
  {
   "cell_type": "code",
   "execution_count": 57,
   "id": "a6b21086-de98-40ef-b7ad-4b2439e9af49",
   "metadata": {
    "scrolled": true
   },
   "outputs": [],
   "source": [
    "def getMarketsFromString(str):\n",
    "    \"\"\"This is a helper method that\n",
    "    constructs a set out of a comma-separated string\n",
    "    \"\"\"\n",
    "    return {Market(e) for e in str.split(',')}"
   ]
  },
  {
   "cell_type": "markdown",
   "id": "d229ab20-ed25-4972-8e19-088a8e87bb64",
   "metadata": {},
   "source": [
    "### Exercises\n",
    "\n",
    "1. Convert the code above to use Movies/Genres model. So, instead of `Phone`, there will be `Movie`, and instead of `Market`, there will be `Genre`. Replace `Platform` with `Country`. So:\n",
    "   - `Platform` -> `Country`\n",
    "   - `Market` -> `Genre`\n",
    "   - `Phone` -> `Movie`\n",
    "2. Modify `Movie.update` to update all fields, not only rating.\n",
    "3. Use `getMarketsFromString` defined above when fetching movie genres in `get` method. It will help convert a comma-separated string to a Python set."
   ]
  },
  {
   "cell_type": "markdown",
   "id": "0e2f4e64-e824-4ac7-b160-110b0e758add",
   "metadata": {},
   "source": [
    "## Lab 7,8"
   ]
  },
  {
   "cell_type": "markdown",
   "id": "93a49d87-a7f6-460a-83c5-b282070b4412",
   "metadata": {},
   "source": [
    "### Phone manufacturers\n",
    "\n",
    "Great. Now let's add a third ingredient to the mix - a `Manufacturer` class. With this, we will specify some data about the manufacturer of the phone, like `name`, `website`, `year` (when the company was founded), `hq` (meaning headquarters - location of main office)."
   ]
  },
  {
   "cell_type": "code",
   "execution_count": 81,
   "id": "edf31e0c-ec37-4e8e-a7ba-9a312556a129",
   "metadata": {},
   "outputs": [],
   "source": [
    "class Director:\n",
    "    def __init__(self, name, birth_year, country):\n",
    "        self.name = name\n",
    "        self.birth_year = birth_year\n",
    "        self.country = country\n",
    "    \n",
    "    @classmethod\n",
    "    def createTable(cls):\n",
    "        cur.execute('''CREATE TABLE IF NOT EXISTS directors (\n",
    "                        name TEXT PRIMARY KEY,\n",
    "                        birth_year INTEGER,\n",
    "                        country TEXT)''')\n",
    "        con.commit()\n",
    "\n",
    "    @classmethod\n",
    "    def removeTable(cls):\n",
    "        cur.execute('DROP TABLE IF EXISTS directors')\n",
    "        con.commit()\n",
    "\n",
    "    def insert(self):\n",
    "        cur.execute('''INSERT INTO directors VALUES(?,?,?)''', (self.name, self.birth_year, self.country))\n",
    "        con.commit()\n",
    "\n",
    "    def update(self):\n",
    "        cur.execute('''UPDATE directors SET birth_year=?, country=? WHERE name=?''', (self.birth_year, self.country, self.name))\n",
    "        con.commit() \n",
    "\n",
    "    @classmethod\n",
    "    def get(cls, name):\n",
    "        cur.execute('SELECT birth_year, country FROM directors WHERE name=?', (name,))\n",
    "        res = cur.fetchone()\n",
    "        return Director(name, res[0], res[1])\n",
    "\n",
    "    @classmethod\n",
    "    def getAll(cls):\n",
    "        cur.execute('SELECT name, birth_year, country FROM directors')\n",
    "        res = cur.fetchall()\n",
    "        return [Director(el[0], el[1], el[2]) for el in res]\n",
    "\n",
    "    def __str__(self):\n",
    "        return \"(%s, %s, %s)\" % (self.name, self.birth_year, self.country)"
   ]
  },
  {
   "cell_type": "markdown",
   "id": "19d9ae15-b278-4fe0-95b6-c54038859323",
   "metadata": {},
   "source": [
    "Now we check how it works."
   ]
  },
  {
   "cell_type": "code",
   "execution_count": 82,
   "id": "a0f35fd5-de10-421f-bcda-28221c1ec440",
   "metadata": {},
   "outputs": [],
   "source": [
    "Director.removeTable()\n",
    "Director.createTable()"
   ]
  },
  {
   "cell_type": "code",
   "execution_count": 83,
   "id": "2645dc35-8160-4ce3-8a04-14e0ba2f0d51",
   "metadata": {},
   "outputs": [],
   "source": [
    "\n",
    "d1 = Director('Christopher Nolan', 1970, 'UK')\n",
    "d2 = Director('Frank Darabont', 1959, 'USA')\n",
    "d3 = Director('Steven Spielberg', 1946, 'USA')\n",
    "\n",
    "d1.insert()\n",
    "d2.insert()\n",
    "d3.insert()\n"
   ]
  },
  {
   "cell_type": "code",
   "execution_count": 84,
   "id": "8e960976-384f-43b1-a002-7dbad1081cef",
   "metadata": {},
   "outputs": [
    {
     "name": "stdout",
     "output_type": "stream",
     "text": [
      "(Steven Spielberg, 1946, USA)\n"
     ]
    }
   ],
   "source": [
    "directorFromDb = Director.get('Steven Spielberg')\n",
    "print(directorFromDb)\n"
   ]
  },
  {
   "cell_type": "code",
   "execution_count": 85,
   "id": "a4bdf1d4-d0b4-4b2e-b20b-c10d5d248afc",
   "metadata": {},
   "outputs": [
    {
     "name": "stdout",
     "output_type": "stream",
     "text": [
      "(Christopher Nolan, 1970, UK)\n",
      "(Frank Darabont, 1959, USA)\n",
      "(Steven Spielberg, 1946, USA)\n"
     ]
    },
    {
     "data": {
      "text/plain": [
       "[None, None, None]"
      ]
     },
     "execution_count": 85,
     "metadata": {},
     "output_type": "execute_result"
    }
   ],
   "source": [
    "[print(e) for e in Director.getAll()]\n"
   ]
  },
  {
   "cell_type": "code",
   "execution_count": null,
   "id": "2d2e5b8e",
   "metadata": {},
   "outputs": [],
   "source": [
    "erDiagram\n",
    "    movies ||--o{ movie_country : \"1\" -- \"N\"\n",
    "    directors ||--o{ movies : \"1\" -- \"N\"\n",
    "    genres ||--o{ movies : \"1\" -- \"N\"\n",
    "    movies {\n",
    "        title VARCHAR(255) : PK\n",
    "        director VARCHAR(255) : FK\n",
    "        genre VARCHAR(255) : FK\n",
    "        year INTEGER\n",
    "        rating REAL\n",
    "    }\n",
    "    movie_country {\n",
    "        movie VARCHAR(255) : FK\n",
    "        country VARCHAR(255) : FK\n",
    "    }\n",
    "    directors {\n",
    "        name VARCHAR(255) : PK\n",
    "        birth_year INTEGER\n",
    "        country VARCHAR(255)\n",
    "    }\n",
    "    genres {\n",
    "        genre VARCHAR(255) : PK\n",
    "    }\n"
   ]
  },
  {
   "cell_type": "markdown",
   "id": "249c1688-8655-420a-9189-c9086492343c",
   "metadata": {},
   "source": [
    "### Exercises\n",
    "1. Convert `Phone.Manufacturer` to `Movie.Director`, having these fields:\n",
    "   - `name`\n",
    "   - `birth_year`\n",
    "   - `country`\n",
    "2. Link `Director` table to `Movie`, so that director data are fetched in `Movie.get` (not just name). Hint: use `LEFT JOIN`, similarly to market fetching in the code above.\n",
    "3. Draw a Mermaid.js diagram of the resulting SQL data model (for `Movie`s, `Country`s, `Director`s, and `Genre`s)"
   ]
  },
  {
   "cell_type": "markdown",
   "id": "fff11df2-d31d-4a72-821e-a06a78f17a3d",
   "metadata": {},
   "source": [
    " ## References\n",
    "1. Python SQLite tutorial: https://docs.python.org/3/library/sqlite3.html#sqlite3-tutorial.\n",
    "2. SQLite foreign keys: https://www.sqlite.org/foreignkeys.html.\n",
    "3. SQLite aggregate functions: https://www.sqlite.org/lang_aggfunc.html.\n",
    "4. Mermaid.js intro: https://mermaid.js.org/intro/.\n",
    "5. Mermaid.js entity-relationship diagram docs: https://mermaid.js.org/syntax/entityRelationshipDiagram.html."
   ]
  },
  {
   "cell_type": "code",
   "execution_count": null,
   "id": "10d57662-97af-47d7-a7f0-280d069430f7",
   "metadata": {},
   "outputs": [],
   "source": []
  }
 ],
 "metadata": {
  "kernelspec": {
   "display_name": "Python 3 (ipykernel)",
   "language": "python",
   "name": "python3"
  },
  "language_info": {
   "codemirror_mode": {
    "name": "ipython",
    "version": 3
   },
   "file_extension": ".py",
   "mimetype": "text/x-python",
   "name": "python",
   "nbconvert_exporter": "python",
   "pygments_lexer": "ipython3",
   "version": "3.9.13"
  }
 },
 "nbformat": 4,
 "nbformat_minor": 5
}
