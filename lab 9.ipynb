{
 "cells": [
  {
   "cell_type": "markdown",
   "id": "e7382098",
   "metadata": {},
   "source": [
    "The quick brown fox jumps over the lazy dog."
   ]
  },
  {
   "cell_type": "markdown",
   "id": "929eade8",
   "metadata": {},
   "source": [
    "$$e^{i\\pi} + 1 = 0$$\n"
   ]
  },
  {
   "cell_type": "markdown",
   "id": "802ba595",
   "metadata": {},
   "source": [
    "$$e^{i\\theta} = \\cos \\theta + i\\sin \\theta$$\n"
   ]
  },
  {
   "cell_type": "markdown",
   "id": "466b0eb3",
   "metadata": {},
   "source": [
    "$$G_{\\mu\\nu} + \\Lambda g_{\\mu\\nu} = \\frac{8\\pi G}{c^4} T_{\\mu\\nu}\n",
    "$$"
   ]
  },
  {
   "cell_type": "markdown",
   "id": "428bb57f",
   "metadata": {},
   "source": [
    "$$x = \\frac{{-b \\pm \\sqrt{{b^2 - 4ac}}}}{{2a}}\n",
    "$$"
   ]
  },
  {
   "cell_type": "markdown",
   "id": "8d1ccbb0",
   "metadata": {},
   "source": [
    "$$\n",
    "\\vec{L} = \\vec{r} \\times \\vec{p}\n",
    "$$\n"
   ]
  },
  {
   "cell_type": "markdown",
   "id": "53e1926a",
   "metadata": {},
   "source": [
    "$$\\sqrt[3]{2}\n",
    "$$"
   ]
  },
  {
   "cell_type": "markdown",
   "id": "d28f632b",
   "metadata": {},
   "source": [
    "$$(x + y)^n = \\sum_{r=0}^{n} \\binom{n}{r} x^r y^{n-r}\n",
    "$$"
   ]
  },
  {
   "cell_type": "markdown",
   "id": "9b222891",
   "metadata": {},
   "source": [
    "$$\\sqrt{\\frac{r}{a_1^2 + \\cdots + a_n^2}} \\geq \\frac{a_1 + \\cdots + a_n}{n} \\geq \\sqrt[n]{a_1 \\cdots a_n} \\geq \\frac{n}{\\frac{1}{a_1} + \\cdots + \\frac{1}{a_n}}\n",
    "$$"
   ]
  },
  {
   "cell_type": "markdown",
   "id": "c4ec2275",
   "metadata": {},
   "source": [
    "$$| \\langle x, y \\rangle |^2 \\leq \\langle x, x \\rangle \\cdot \\langle y, y \\rangle\n",
    "$$"
   ]
  },
  {
   "cell_type": "markdown",
   "id": "1b571438",
   "metadata": {},
   "source": [
    "$$\\begin{align*}\n",
    "A1: & \\quad \\phi \\rightarrow (\\psi \\rightarrow \\phi) \\\\\n",
    "A2: & \\quad (\\phi \\rightarrow (\\psi \\rightarrow \\theta)) \\rightarrow ((\\phi \\rightarrow \\psi) \\rightarrow (\\phi \\rightarrow \\theta)) \\\\\n",
    "A3: & \\quad (\\neg \\phi \\rightarrow \\neg \\psi) \\rightarrow (\\psi \\rightarrow \\phi)\n",
    "\\end{align*}\n",
    "$$"
   ]
  },
  {
   "cell_type": "markdown",
   "id": "d303ac94",
   "metadata": {},
   "source": [
    "$$1_A(x) = \\begin{cases}\n",
    "1 & \\text{if } x \\in A \\\\\n",
    "0 & \\text{if } x \\notin A\n",
    "\\end{cases}\n",
    "$$"
   ]
  },
  {
   "cell_type": "markdown",
   "id": "d8b5f0e8",
   "metadata": {},
   "source": [
    "$$n \\uparrow \\cdots \\uparrow \\uparrow \\left\\{ z \\right\\}_n = n \\rightarrow n \\rightarrow n\n",
    "$$"
   ]
  },
  {
   "cell_type": "markdown",
   "id": "541d269c",
   "metadata": {},
   "source": [
    "$$1 \\uparrow 1 = 1 \\\\\n",
    "1 = 1 \\\\\n",
    "2 \\uparrow \\uparrow 2 = 2 \\\\\n",
    "2 = 4\n",
    "$$"
   ]
  },
  {
   "cell_type": "markdown",
   "id": "e66c41cc",
   "metadata": {},
   "source": [
    "$$3 \\uparrow\\uparrow\\uparrow 3 = 3^{3^{3^{\\iddots^3}}}$$"
   ]
  },
  {
   "cell_type": "markdown",
   "id": "d2929050",
   "metadata": {},
   "source": [
    "$$\\frac{d}{dx} f(x) = \\lim_{{\\Delta x \\to 0}} \\frac{f(x + \\Delta x) - f(x)}{\\Delta x}\n",
    "$$"
   ]
  },
  {
   "cell_type": "markdown",
   "id": "3c13c667",
   "metadata": {},
   "source": [
    "   $$ {H2O(l) + H2O(l) -> H3O^+(aq) + OH^-(aq)}$$"
   ]
  },
  {
   "cell_type": "markdown",
   "id": "0b9a2ebc",
   "metadata": {},
   "source": [
    "$$\\Gamma(n + 1) = \\int_{0}^{\\infty} e^{-t} t^{n} dt\n",
    "$$"
   ]
  },
  {
   "cell_type": "markdown",
   "id": "0d47baa5",
   "metadata": {},
   "source": []
  },
  {
   "cell_type": "code",
   "execution_count": null,
   "id": "ea691afb",
   "metadata": {},
   "outputs": [],
   "source": []
  }
 ],
 "metadata": {
  "kernelspec": {
   "display_name": "Python 3 (ipykernel)",
   "language": "python",
   "name": "python3"
  },
  "language_info": {
   "codemirror_mode": {
    "name": "ipython",
    "version": 3
   },
   "file_extension": ".py",
   "mimetype": "text/x-python",
   "name": "python",
   "nbconvert_exporter": "python",
   "pygments_lexer": "ipython3",
   "version": "3.9.13"
  }
 },
 "nbformat": 4,
 "nbformat_minor": 5
}
