{
 "cells": [
  {
   "cell_type": "code",
   "execution_count": 3,
   "id": "4e2dcd1c",
   "metadata": {},
   "outputs": [
    {
     "name": "stdout",
     "output_type": "stream",
     "text": [
      "Movie: Release Date - 2010-07-16, Director - Christopher Nolan, Reception - 86%, Genre - Science Fiction\n"
     ]
    }
   ],
   "source": [
    "from enum import Enum\n",
    "\n",
    "\n",
    "class Genre(Enum):\n",
    "    ACTION = \"Action\"\n",
    "    ADVENTURE = \"Adventure\"\n",
    "    COMEDY = \"Comedy\"\n",
    "    DRAMA = \"Drama\"\n",
    "    FANTASY = \"Fantasy\"\n",
    "    HORROR = \"Horror\"\n",
    "    ROMANCE = \"Romance\"\n",
    "    SCIFI = \"Science Fiction\"\n",
    "\n",
    "\n",
    "class Director:\n",
    "    def __init__(self, name: str):\n",
    "        self.name = name\n",
    "\n",
    "    def __str__(self):\n",
    "        return self.name\n",
    "\n",
    "\n",
    "class Movie:\n",
    "    def __init__(self, release_date: str, director: Director, reception: str, genre: Genre):\n",
    "        self.release_date = release_date\n",
    "        self.director = director\n",
    "        self.reception = reception\n",
    "        self.genre = genre\n",
    "\n",
    "    def __str__(self):\n",
    "        return f\"Movie: Release Date - {self.release_date}, Director - {self.director}, \" \\\n",
    "               f\"Reception - {self.reception}, Genre - {self.genre.value}\"\n",
    "\n",
    "'''Example'''\n",
    "\n",
    "director = Director(\"Christopher Nolan\")\n",
    "inception = Movie(\"2010-07-16\", director, \"86%\", Genre.SCIFI)\n",
    "print(inception)"
   ]
  },
  {
   "cell_type": "code",
   "execution_count": null,
   "id": "f03661d1",
   "metadata": {},
   "outputs": [],
   "source": []
  }
 ],
 "metadata": {
  "kernelspec": {
   "display_name": "Python 3 (ipykernel)",
   "language": "python",
   "name": "python3"
  },
  "language_info": {
   "codemirror_mode": {
    "name": "ipython",
    "version": 3
   },
   "file_extension": ".py",
   "mimetype": "text/x-python",
   "name": "python",
   "nbconvert_exporter": "python",
   "pygments_lexer": "ipython3",
   "version": "3.9.13"
  }
 },
 "nbformat": 4,
 "nbformat_minor": 5
}
